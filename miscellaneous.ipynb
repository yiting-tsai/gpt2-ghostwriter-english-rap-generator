{
 "cells": [
  {
   "cell_type": "markdown",
   "id": "solar-orlando",
   "metadata": {},
   "source": [
    "### Save song names associated with their artists"
   ]
  },
  {
   "cell_type": "code",
   "execution_count": 118,
   "id": "permanent-header",
   "metadata": {},
   "outputs": [],
   "source": [
    "import re\n",
    "import pickle"
   ]
  },
  {
   "cell_type": "code",
   "execution_count": 80,
   "id": "conditional-karen",
   "metadata": {},
   "outputs": [],
   "source": [
    "lines=list()\n",
    "with open(\"backstage/genius-api-download-log.txt\", \"r\") as data:\n",
    "    for line in data:\n",
    "        pure_line = line.strip()\n",
    "        if pure_line:\n",
    "            lines.append(pure_line)"
   ]
  },
  {
   "cell_type": "code",
   "execution_count": 119,
   "id": "rough-terminal",
   "metadata": {},
   "outputs": [],
   "source": [
    "with open ('data/498artists.txt', 'rb') as fp:\n",
    "    list_1 = pickle.load(fp)  \n",
    "    \n",
    "d={artist: None for artist in list_1}\n",
    "no_found_artist_list=list()\n",
    "artist_order_list=list()\n",
    "artist_tuple_list=list()\n",
    "song_list=list()\n",
    "number_list=list()"
   ]
  },
  {
   "cell_type": "code",
   "execution_count": 121,
   "id": "upset-constitution",
   "metadata": {},
   "outputs": [
    {
     "data": {
      "text/plain": [
       "548"
      ]
     },
     "execution_count": 121,
     "metadata": {},
     "output_type": "execute_result"
    }
   ],
   "source": [
    "len(list_1)"
   ]
  },
  {
   "cell_type": "code",
   "execution_count": 82,
   "id": "french-stevens",
   "metadata": {},
   "outputs": [],
   "source": [
    "for line in lines:\n",
    "    # Searching for songs by Xxxx Xxxx Xxxx Xxxx Xxxx...\n",
    "    if re.match(r'Searching for songs by .*\\s?.*\\s?.*\\s?.*\\s?.*\\s?\\.\\.\\.',line):\n",
    "        list_element=re.match(r'Searching for songs by .*\\s?.*\\s?.*\\s?.*\\s?.*\\s?\\.\\.\\.',line).group(0)\n",
    "        artist_name=re.match(r'Searching for songs by .*\\s?.*\\s?.*\\s?.*\\s?.*\\s?\\.\\.\\.',line).group(0)[23:-3]\n",
    "        # Exception: 'No results found for Xxx' or 'Timeout raised and caught:'\n",
    "        if re.match(r\"No results found for \\'.*\\'\\.\",lines[lines.index(list_element)+1]) or re.match(r'Timeout raised and caught\\:',lines[lines.index(list_element)+1]):\n",
    "            no_found_artist_list.append(artist_name)\n",
    "        else:\n",
    "            artist_order_list.append(artist_name)\n",
    "        \n",
    "    # Find artist names that Genius API changed automatically to replace the scrapped artist names\n",
    "    # Changing artist name to 'Xxxx Xxxx Xxxx Xxxx Xxxx'\n",
    "    if re.match(r\"Changing artist name to '.*\\s?.*\\s?.*\\s?.*\\s?.*\\s?'\",line):\n",
    "        list_element=re.match(r\"Changing artist name to '.*\\s?.*\\s?.*\\s?.*\\s?.*\\s?'\",line).group(0)\n",
    "        artist_name=list_element[25:-1]\n",
    "        line_where_artist_to_be_replaced=lines[lines.index(list_element)-1]\n",
    "        # Searching for songs by Xxxx Xxxx Xxxx Xxxx Xxxx...\n",
    "        if re.match(r'Searching for songs by .*\\s?.*\\s?.*\\s?.*\\s?.*\\s?\\.\\.\\.',line_where_artist_to_be_replaced):\n",
    "            artist_name_to_be_replaced=re.match(r'Searching for songs by .*\\s?.*\\s?.*\\s?.*\\s?.*\\s?\\.\\.\\.',line_where_artist_to_be_replaced).group(0)[23:-3]\n",
    "            # Update artist name (key) in dictionary to new artist name\n",
    "            artist_tuple=(artist_name_to_be_replaced,artist_name)\n",
    "            artist_tuple_list.append(artist_tuple)\n",
    "            artist_tuple=()\n",
    "            #d[artist_name]=d.pop(artist_name_to_be_replaced)      \n",
    "\n",
    "    # Get number of song grabbed\n",
    "    # don't use 'Songs grabbed:\\d\\d?', because 'some exception at Xxxx: 265', use 'Done. Found __ songs.'\n",
    "    if re.match(r'Done\\. Found \\d\\d? songs\\.',line): \n",
    "        number=re.match(r'Done\\. Found \\d\\d? songs\\.',line).group(0)[12:-7]\n",
    "        number_list.append(number)\n",
    "            \n",
    "    # Get names of song grabbed\n",
    "    if re.match(r'Song \\d: \\\".*\\\"',line):\n",
    "        song_name_1_9=re.match(r'Song \\d: \\\".*\\\"',line).group(0)[9:-1]\n",
    "        song_list.append(song_name_1_9)\n",
    "        \n",
    "    if re.match(r'Song \\d\\d: \\\".*\\\"',line):\n",
    "        song_name_11_20=re.match(r'Song \\d\\d: \\\".*\\\"',line).group(0)[10:-1]\n",
    "        song_list.append(song_name_11_20)"
   ]
  },
  {
   "cell_type": "markdown",
   "id": "important-welcome",
   "metadata": {},
   "source": [
    "# repeated download for certain artists !!!"
   ]
  },
  {
   "cell_type": "code",
   "execution_count": 112,
   "id": "convertible-vegetable",
   "metadata": {},
   "outputs": [],
   "source": [
    "c=0\n",
    "for artist in artist_order_list:\n",
    "    idx=artist_order_list.index(artist)\n",
    "    if idx==0:\n",
    "        d[artist]=(number_list[idx],song_list[0:int(number_list[idx])])\n",
    "        c+=int(number_list[idx])\n",
    "\n",
    "    else:\n",
    "        d[artist]=(number_list[idx],song_list[c:c+int(number_list[idx])])\n",
    "        c+=int(number_list[idx])"
   ]
  },
  {
   "cell_type": "code",
   "execution_count": null,
   "id": "sticky-sterling",
   "metadata": {},
   "outputs": [],
   "source": [
    "with open('backstage/artist-song-titles.pickle', 'wb') as handle:\n",
    "    pickle.dump(d, handle, protocol=pickle.HIGHEST_PROTOCOL)\n",
    "\n",
    "#with open('backstage/artist-song-titles.pickle', 'rb') as handle:\n",
    "#    b = pickle.load(handle)"
   ]
  },
  {
   "cell_type": "code",
   "execution_count": null,
   "id": "assumed-leone",
   "metadata": {},
   "outputs": [],
   "source": [
    "no_found_artist_list"
   ]
  },
  {
   "cell_type": "code",
   "execution_count": null,
   "id": "stupid-passing",
   "metadata": {},
   "outputs": [],
   "source": [
    "artist_tuple_list"
   ]
  }
 ],
 "metadata": {
  "kernelspec": {
   "display_name": "Python 3",
   "language": "python",
   "name": "python3"
  },
  "language_info": {
   "codemirror_mode": {
    "name": "ipython",
    "version": 3
   },
   "file_extension": ".py",
   "mimetype": "text/x-python",
   "name": "python",
   "nbconvert_exporter": "python",
   "pygments_lexer": "ipython3",
   "version": "3.7.4"
  }
 },
 "nbformat": 4,
 "nbformat_minor": 5
}
